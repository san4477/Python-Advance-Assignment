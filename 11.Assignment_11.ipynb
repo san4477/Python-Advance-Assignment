{
 "cells": [
  {
   "cell_type": "code",
   "execution_count": null,
   "id": "b9c84197-3387-49d9-8306-f19ebee8a3c2",
   "metadata": {},
   "outputs": [],
   "source": [
    "Q1. What is the concept of a metaclass?\n",
    "Ans: Metaclass in Python is a class of a class that defines how a class behaves. A class is itself a instance of Metaclass, \n",
    "and any Instance of Class in Python is an Instance of type metaclass. E.g. Type of of int, str, float, list, tuple and many more\n",
    "is of metaclass type.\n",
    "\n",
    "Q2. What is the best way to declare a class's metaclass?\n",
    "Ans: A way to declare a class’ metaclass is by using metaclass keyword in class definition.\n",
    "\n",
    "class meta(type):\n",
    "    pass\n",
    "class class_meta(metaclass=meta):\n",
    "    pass\n",
    "print(type(meta))\n",
    "print(type(class_meta))\n",
    "\n",
    "\n",
    "Q3. How do class decorators overlap with metaclasses for handling classes ?\n",
    "Ans: Anything you can do with a class decorator, you can of course do with a custom metaclasses (just apply the functionality\n",
    "                                                                                                 \n",
    "of the \"decorator function\", i.e., the one that takes a class object and modifies it, in the course of the\n",
    "    metaclass's __new__ or __init__ that make the class object!).\n",
    "\n",
    "Q4. How do class decorators overlap with metaclasses for handling instances?\n",
    "Ans: Anything you can do with a class decorator, you can of course do with a custom metaclass (just apply the functionality \n",
    "    of the \"decorator function\", i.e., the one that takes a class object and modifies it, in the course of the \n",
    "                                    metaclass's __new__ or __init__ that make the class object!)."
   ]
  }
 ],
 "metadata": {
  "kernelspec": {
   "display_name": "Python 3 (ipykernel)",
   "language": "python",
   "name": "python3"
  },
  "language_info": {
   "codemirror_mode": {
    "name": "ipython",
    "version": 3
   },
   "file_extension": ".py",
   "mimetype": "text/x-python",
   "name": "python",
   "nbconvert_exporter": "python",
   "pygments_lexer": "ipython3",
   "version": "3.10.6"
  }
 },
 "nbformat": 4,
 "nbformat_minor": 5
}
