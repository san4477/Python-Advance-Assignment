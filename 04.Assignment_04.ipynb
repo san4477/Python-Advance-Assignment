{
 "cells": [
  {
   "cell_type": "code",
   "execution_count": null,
   "id": "d065f134-68f7-4427-8af1-92eb93a9f8fc",
   "metadata": {},
   "outputs": [],
   "source": [
    "Q1. Which two operator overloading methods can you use in your classes to support iteration?\n",
    "Ans: __iter__ and __next__ are the operator overloading methods in python that support iteration and are collectively called iterator protocol.\n",
    "\n",
    "__iter__ returns the iterator object and is called at the start of loop in our respective class.\n",
    "__next__ is called at each loop increment, it returns the incremented value. Also Stopiteration is raised when there is no value to return.\n",
    "\n",
    "   "
   ]
  },
  {
   "cell_type": "code",
   "execution_count": 3,
   "id": "ccec3197-d606-4fe3-8b43-eb72aa55a42c",
   "metadata": {},
   "outputs": [
    {
     "name": "stdout",
     "output_type": "stream",
     "text": [
      "5 6 7 8 9 10 11 12 13 14 15 "
     ]
    }
   ],
   "source": [
    " class Counter:\n",
    "    def __init__(self,low,high):\n",
    "        self.current = low\n",
    "        self.high = high\n",
    "    def __iter__(self):\n",
    "        return self\n",
    "    def __next__(self):\n",
    "        if self.current > self.high:\n",
    "            raise StopIteration\n",
    "        else:\n",
    "            self.current += 1\n",
    "            return self.current - 1\n",
    "for ele in Counter(5,15):\n",
    "    print(ele, end=\" \")"
   ]
  },
  {
   "cell_type": "code",
   "execution_count": null,
   "id": "495fcf65-e268-40ee-9169-036d140b6cc0",
   "metadata": {},
   "outputs": [],
   "source": [
    "Q2. In what contexts do the two operator overloading methods manage printing?\n",
    "Ans: __str__ and __repr__ are two operator overloading methods that manage printing.\n",
    "\n",
    "In Short, the difference between both these operators is the goal of __repr__ is to be unambiguous and __str__ is to be readable.\n",
    "Whenever we are printing any object reference internally __str__ method will be called by default.\n",
    "The main purpose of __str__ is for readability. it prints the informal string representation of an object, one that is useful for printing the object. it may not be possible to convert result string to original object.\n",
    "__repr__ is used to print official string representation of an object, so it includes all information and development."
   ]
  },
  {
   "cell_type": "code",
   "execution_count": 4,
   "id": "0b16fcfb-98a6-4fbc-b307-7bea80b9661c",
   "metadata": {},
   "outputs": [
    {
     "name": "stdout",
     "output_type": "stream",
     "text": [
      "<__main__.Student object at 0x7fc31b3b6770>\n",
      "Student Name: Mano and Roll No: 1\n",
      "2023-01-03 10:22:08.480769\n",
      "Unable to convert back to original object\n",
      "datetime.datetime(2023, 1, 3, 10, 22, 8, 480769)\n",
      "2023-01-03 10:22:08.480769\n"
     ]
    }
   ],
   "source": [
    "class Student:\n",
    "    def __init__(self,name,roll_no):\n",
    "        self.name = name\n",
    "        self.roll_no = roll_no\n",
    "        \n",
    "s1 = Student(\"Mano\",1)\n",
    "print(str(s1))\n",
    "\n",
    "class Student:\n",
    "    def __init__(self,name,roll_no):\n",
    "        self.name = name\n",
    "        self.roll_no = roll_no\n",
    "    def __str__(self):\n",
    "        return f'Student Name: {self.name} and Roll No: {self.roll_no}'\n",
    "    \n",
    "s1 = Student(\"Mano\",1)\n",
    "print(str(s1))\n",
    "\n",
    "import datetime\n",
    "today = datetime.datetime.now()\n",
    "\n",
    "s = str(today) # converting datetime object to presentable str\n",
    "print(s)\n",
    "try: d = eval(s) # converting str back to datetime object\n",
    "except: print(\"Unable to convert back to original object\")\n",
    "    \n",
    "u = repr(today) # converting datetime object to str\n",
    "print(u)\n",
    "e = eval(u) # converting str back to datetime object\n",
    "print(e)"
   ]
  },
  {
   "cell_type": "code",
   "execution_count": null,
   "id": "f97c8427-f4a3-44b0-865e-1817ec81fbce",
   "metadata": {},
   "outputs": [],
   "source": [
    "Q3. In a class, how do you intercept slice operations?\n",
    "Ans: In a class use of slice() in __getitem__ method is used for intercept slice operation. This slice method is provided with start integer number, stop integer number and step integer number.\n",
    "\n",
    "Example: __getitem__(slice(start,stop,step))"
   ]
  },
  {
   "cell_type": "code",
   "execution_count": null,
   "id": "fbbf26e2-71c4-4230-8f2c-1df58eb1bb7d",
   "metadata": {},
   "outputs": [],
   "source": [
    "Q4. In a class, how do you capture in-place addition?\n",
    "Ans: a+b is normal addition. Whereas a+=b is inplace addition operation. In this in-place addition a itself will store the value of addition. In a class __iadd__ method is used for this in-place operation\n"
   ]
  },
  {
   "cell_type": "code",
   "execution_count": 5,
   "id": "792dfb3f-2cbd-4470-a37e-5f93d934920c",
   "metadata": {},
   "outputs": [
    {
     "name": "stdout",
     "output_type": "stream",
     "text": [
      "300\n"
     ]
    }
   ],
   "source": [
    "class Book:\n",
    "    def __init__(self,pages):\n",
    "        self.pages = pages\n",
    "    def __iadd__(self,other):\n",
    "        self.pages += other.pages\n",
    "        return self.pages\n",
    "        \n",
    "b1 = Book(100)\n",
    "b2 = Book(200)\n",
    "b1+=b2\n",
    "print(b1)"
   ]
  },
  {
   "cell_type": "code",
   "execution_count": null,
   "id": "71264dcc-c02c-40e2-aa36-b7bf73a5695b",
   "metadata": {},
   "outputs": [],
   "source": [
    "Q5. When is it appropriate to use operator overloading?\n",
    "Ans: Operator overloading is used when we want to use an operator other than its normal operation to have different meaning according to the context required in user defined function.\n"
   ]
  },
  {
   "cell_type": "code",
   "execution_count": 6,
   "id": "fc13ca07-8960-4523-9909-e81a7342bc43",
   "metadata": {},
   "outputs": [
    {
     "name": "stdout",
     "output_type": "stream",
     "text": [
      "Total Number of Pages -> 300\n"
     ]
    }
   ],
   "source": [
    "class Book:\n",
    "    def __init__(self,pages):\n",
    "        self.pages = pages\n",
    "    def __add__(self,other):\n",
    "        return self.pages+other.pages\n",
    "b1 = Book(100)\n",
    "b2 = Book(200)\n",
    "print(f'Total Number of Pages -> {b1+b2}')\n"
   ]
  },
  {
   "cell_type": "code",
   "execution_count": null,
   "id": "7e857b6d-a194-4fd6-a475-05061f31f349",
   "metadata": {},
   "outputs": [],
   "source": []
  }
 ],
 "metadata": {
  "kernelspec": {
   "display_name": "Python 3 (ipykernel)",
   "language": "python",
   "name": "python3"
  },
  "language_info": {
   "codemirror_mode": {
    "name": "ipython",
    "version": 3
   },
   "file_extension": ".py",
   "mimetype": "text/x-python",
   "name": "python",
   "nbconvert_exporter": "python",
   "pygments_lexer": "ipython3",
   "version": "3.10.6"
  }
 },
 "nbformat": 4,
 "nbformat_minor": 5
}
