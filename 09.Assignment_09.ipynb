{
 "cells": [
  {
   "cell_type": "code",
   "execution_count": null,
   "id": "8402965b-74ec-4836-bacf-a4766b342701",
   "metadata": {},
   "outputs": [],
   "source": []
  },
  {
   "cell_type": "code",
   "execution_count": null,
   "id": "23f39487-9078-4a37-8958-9318140c6315",
   "metadata": {},
   "outputs": [],
   "source": [
    "Q1. In Python 3.X, what are the names and functions of string object types?\n",
    "Ans: The following are the names and functions of string object types in Python 3.X\n",
    "\n",
    ".isdecimal() -> Returns True if all characters in a string are decimal.\n",
    ".isalnum() -> Returns True if all characters in the string are AlphaNumeric.\n",
    ".istitle() -> Returns True if first character in a string is in Uppercase.\n",
    ".partition() -> Splits string at first occurance of sub string and returns a tuple of 3 elements.\n",
    ".rpartition() -> Splits string at last occurance of sub string and returns a tuple of 3 elements.\n",
    ".isidentifier() -> Returns True if give string is a valid identifier name.\n",
    "len() -> Returns the length of the given string.\n",
    ".index() -> Returns the lowest index of substring if substring is found in the string.\n",
    ".rindex() -> Returns the highest index of substring if substring is found in the string.\n",
    "max() -> Returns the highest Alphabetical Character in the string as per ASCII.\n",
    "min() -> Returns the lowest Alphabetical Character in the string as per ASCII.\n",
    ".splitlines() -> Returns a list of lines in the string.\n",
    ".capitalize() -> Returns the string with first character capitalized.\n",
    ".upper() -> Returns the string with all characters in uppercase.\n",
    ".lower() -> Returns the string with all characters in lowercase\n",
    ".casefold() -> Returns the string in lowercase which can be used for caseless comparisions.\n",
    ".expandtabs(no_of_spaces) -> Replaces tabs in a string with specified no of spaces default is 8\n",
    ".find() -> Returns lowest index of substring if substring is found in the string else returns -1.\n",
    ".rfind() -> Returns highest index of substring if substring is found in the string else returns -1.\n",
    ".count() -> Returns the no of occurances of the char in the given string.\n",
    ".split() -> Returns list of words seperated by given sep else seperated by whitespace.\n",
    ".rsplit() -> Returns list of words seperated by given sep else seperated by whitespace scanning from end.\n",
    ".lstrip() -> Returns a copy of where leading whitespaces are removed.\n",
    ".rstrip() -> Returns a copy of where trailed whitespaces are removed.\n",
    ".strip() -> Returns a copy of where both leading and trailing whitespaces are removed.\n",
    ".swapcase() -> Swaps lowercase characters with uppercase and vice versa.\n",
    ".join() -> Concatenates a list or tuple of words with intervening occuernces of sep.\n",
    ".translate() -> translates the characters using table.\n",
    ".maketrans() -> Creating a mapping translation tbale usable for .translate()\n",
    ".replace(,) -> Replace all occurances of char_1 with char_2 in string.\n",
    ".encode() -> Encodes string into any encoding supported by python. Default encoding is UTF-8.\n",
    ".ljust() -> Left-justify in a field of given width.\n",
    ".rjust() -> Right-justify in a field of given width.\n",
    ".center() -> Center-justify in a field of given width.\n",
    ".zfill() -> Zfill adds zeros to the begining of string until the specified length is reached."
   ]
  },
  {
   "cell_type": "code",
   "execution_count": 3,
   "id": "90165fa2-644c-49af-8c34-444df2498f9b",
   "metadata": {},
   "outputs": [
    {
     "name": "stdout",
     "output_type": "stream",
     "text": [
      "True\n",
      "True\n",
      "False\n",
      "('\"I could eat ', 'bananas', ' all day, bananas are my favorite fruit\"')\n",
      "('\"I could eat bananas all day, ', 'bananas', ' are my favorite fruit\"')\n",
      "True\n",
      "17\n",
      "1\n",
      "6\n",
      "t\n",
      "A\n",
      "['Ineuron ', ' Full Stack ', ' Data Science ', ' Course ']\n",
      "Finding nemo\n",
      "DATAPIPELINES\n",
      "mlops\n",
      "doloris jane umbridge\n",
      "Data science    Data Analyst\n",
      "1\n",
      "6\n",
      "2\n",
      "['i', 'euro', '']\n",
      "['i', 'euro', '']\n",
      "EDA \n",
      " EDA\n",
      "EDA\n",
      "eXPLORATORY dATA aNALYSIS\n",
      "Iris_flower_Dataset\n",
      "Hello Pam!\n",
      "Hello Pam!\n",
      "I2euro2\n",
      "b'Natural Language Processing'\n",
      "Nemo      \n",
      "      Nemo\n",
      "   Nemo   \n",
      "00000Hello\n"
     ]
    }
   ],
   "source": [
    "print('1234567890'.isdecimal())\n",
    "print('IneuronFullStackDS'.isalnum())\n",
    "print('Ineuron Full Stack Data science'.istitle())\n",
    "print('\"I could eat bananas all day, bananas are my favorite fruit\"'.partition('bananas'))\n",
    "print('\"I could eat bananas all day, bananas are my favorite fruit\"'.rpartition('bananas'))\n",
    "print('GeeksForFreaks'.isidentifier())\n",
    "print(len('Linear Regression'))\n",
    "print('Ineuron'.index('n'))\n",
    "print('Ineuron'.rindex('n'))\n",
    "print(max('Data_Scientist'))\n",
    "print(min('Data_Analyst'))\n",
    "print('Ineuron \\n Full Stack \\n Data Science \\n Course '.splitlines())\n",
    "print('finding nemo'.capitalize())\n",
    "print('datapipelines'.upper())\n",
    "print('MLOPS'.lower())\n",
    "print('Doloris Jane Umbridge'.casefold())\n",
    "print('Data science\\tData Analyst'.expandtabs(8))\n",
    "print('Ineuron'.find('n'))\n",
    "print('Ineuron'.rfind('n'))\n",
    "print('Transformers'.count('s'))\n",
    "print('ineuron'.split('n'))\n",
    "print('ineuron'.rsplit('n'))\n",
    "print(' EDA '.lstrip())\n",
    "print(' EDA '.rstrip())\n",
    "print(' EDA '.strip())\n",
    "print('Exploratory Data Analysis'.swapcase())\n",
    "print('_'.join(['Iris','flower','Dataset']))\n",
    "\n",
    "mydict = {83:  80}\n",
    "print(\"Hello Sam!\".translate(mydict))\n",
    "\n",
    "txt = \"Hello Sam!\"\n",
    "mytable = txt.maketrans(\"S\", \"P\")\n",
    "print(txt.translate(mytable))\n",
    "\n",
    "print('Ineuron'.replace('n','2'))\n",
    "print('Natural Language Processing'.encode())\n",
    "print('Nemo'.ljust(10))\n",
    "print('Nemo'.rjust(10))\n",
    "print('Nemo'.center(10))\n",
    "print('Hello'.zfill(10))"
   ]
  },
  {
   "cell_type": "code",
   "execution_count": null,
   "id": "c5791124-b680-4d5c-9acd-a654f49dcb16",
   "metadata": {},
   "outputs": [],
   "source": [
    "Q2. How do the string forms in Python 3.X vary in terms of operations?\n",
    "Ans: In Python3 default format of strings is Unicode Whereas in Pyton2 we need to explicitly mention Unicode value using u.\n",
    "\n",
    "Q3. In Python 3.X, how do you put non-ASCII Unicode characters in a string?\n",
    "Ans: In Python 3.x unidecode() method from unidecode library can be used to put non-ASCII Unicode Characters in a string.\n",
    "\n"
   ]
  },
  {
   "cell_type": "code",
   "execution_count": 4,
   "id": "8d35c0ff-d207-4dcf-8dbb-c9804d3b5cc3",
   "metadata": {},
   "outputs": [
    {
     "ename": "ModuleNotFoundError",
     "evalue": "No module named 'unidecode'",
     "output_type": "error",
     "traceback": [
      "\u001b[0;31m---------------------------------------------------------------------------\u001b[0m",
      "\u001b[0;31mModuleNotFoundError\u001b[0m                       Traceback (most recent call last)",
      "Cell \u001b[0;32mIn [4], line 1\u001b[0m\n\u001b[0;32m----> 1\u001b[0m \u001b[38;5;28;01mfrom\u001b[39;00m \u001b[38;5;21;01munidecode\u001b[39;00m \u001b[38;5;28;01mimport\u001b[39;00m unidecode\n\u001b[1;32m      2\u001b[0m \u001b[38;5;28mprint\u001b[39m(unidecode(\u001b[38;5;124mu\u001b[39m\u001b[38;5;124m'\u001b[39m\u001b[38;5;124mko\u001b[39m\u001b[38;5;130;01m\\u017e\u001b[39;00m\u001b[38;5;124mu\u001b[39m\u001b[38;5;130;01m\\u0161\u001b[39;00m\u001b[38;5;130;01m\\u010d\u001b[39;00m\u001b[38;5;124mek\u001b[39m\u001b[38;5;124m'\u001b[39m))\n\u001b[1;32m      3\u001b[0m \u001b[38;5;28mprint\u001b[39m(unidecode(\u001b[38;5;124m\"\u001b[39m\u001b[38;5;124mआप नीचे अपनी भाषा और इनपुट उपकरण चुनें और लिखना आरंभ करें\u001b[39m\u001b[38;5;124m\"\u001b[39m))\n",
      "\u001b[0;31mModuleNotFoundError\u001b[0m: No module named 'unidecode'"
     ]
    }
   ],
   "source": [
    "from unidecode import unidecode\n",
    "print(unidecode(u'ko\\u017eu\\u0161\\u010dek'))\n",
    "print(unidecode(\"आप नीचे अपनी भाषा और इनपुट उपकरण चुनें और लिखना आरंभ करें\"))\n",
    "print(unidecode(\"谢谢你\"))\n",
    "print(unidecode(\"ありがとう。\"))\n",
    "print(unidecode(\"улыбаться Владимир Путин\"))"
   ]
  },
  {
   "cell_type": "code",
   "execution_count": null,
   "id": "24c96fa9-e0aa-441b-aa51-fd1e210a94cf",
   "metadata": {},
   "outputs": [],
   "source": [
    "Q4. In Python 3.X, what are the key differences between text-mode and binary-mode files?\n",
    "Ans: The major difference between these two is that a text file contains textual information in the form of alphabets, digits and special\n",
    "characters or symbols. On the other hand, a binary file contains bytes or a compiled version of a text file.\n",
    "\n",
    "When a file is opened in text mode, reading its data automatically decodes its content (as per the platform default or as per provided \n",
    "                                                                                        encoding), and returns it as a str; writing operation takes a str, and automatically encodes it before transferring to the file. Text mode files also support universal end-of-line translation, and encoding specification arguments.\n",
    "\n",
    "When a file is opened in binary mode by adding a b to the mode string argument in the open() call, reading its data does not\n",
    "decode it in any way, and simply returns its content raw and unchanged, as a bytes object; writing takes a bytes object and \n",
    "transfers it to the file unchanged. Binary-mode files also accept a bytearray object for the content to be written to the file.\n",
    "\n",
    "Q5. How can you interpret a Unicode text file containing text encoded in a different encoding than your platform's default?\n",
    "Ans: Use of encode() and decode() method can be used to you interpret a Unicode text file containing text encoded in a different \n",
    "encoding than your platform's default, by default encoding parameter is UTF-8\n",
    "\n",
    "Q6. What is the best way to make a Unicode text file in a particular encoding format?\n",
    "Ans: Use str.encode() and file.write() to make a Unicode text file in a particular encoding format, default encoding format is UTF-18.\n",
    "\n",
    "Call str.encode(encoding) with encoding set to utf8 to encode str.\n",
    "Call open(file, mode) to open a file with mode set to wb . wb writes to files in binary mode & preserves UTF-8format.\n",
    "Call file.write(data) to write data to the file."
   ]
  },
  {
   "cell_type": "code",
   "execution_count": 5,
   "id": "1f5aacb7-929d-43f4-a3ef-0c12fdc8291e",
   "metadata": {},
   "outputs": [
    {
     "name": "stdout",
     "output_type": "stream",
     "text": [
      "b'\\xd1\\x83\\xd0\\xbb\\xd1\\x8b\\xd0\\xb1\\xd0\\xb0\\xd1\\x82\\xd1\\x8c\\xd1\\x81\\xd1\\x8f \\xd0\\x92\\xd0\\xbb\\xd0\\xb0\\xd0\\xb4\\xd0\\xb8\\xd0\\xbc\\xd0\\xb8\\xd1\\x80 \\xd0\\x9f\\xd1\\x83\\xd1\\x82\\xd0\\xb8\\xd0\\xbd'\n",
      "\n",
      "b'\\xd1\\x83\\xd0\\xbb\\xd1\\x8b\\xd0\\xb1\\xd0\\xb0\\xd1\\x82\\xd1\\x8c\\xd1\\x81\\xd1\\x8f \\xd0\\x92\\xd0\\xbb\\xd0\\xb0\\xd0\\xb4\\xd0\\xb8\\xd0\\xbc\\xd0\\xb8\\xd1\\x80 \\xd0\\x9f\\xd1\\x83\\xd1\\x82\\xd0\\xb8\\xd0\\xbd'\n"
     ]
    }
   ],
   "source": [
    "unicode_text = u\"улыбаться Владимир Путин\"\n",
    "encoded_unicode_text = unicode_text.encode(\"utf-8\")\n",
    "print(encoded_unicode_text,end=\"\\n\\n\")\n",
    "\n",
    "w_file = open(\"w_file.txt\",\"wb\")\n",
    "w_file.write(encoded_unicode_text)\n",
    "w_file.close()\n",
    "\n",
    "r_file = open(\"w_file.txt\",\"rb\")\n",
    "data = r_file.read()\n",
    "print(data)"
   ]
  },
  {
   "cell_type": "code",
   "execution_count": null,
   "id": "e4da25c0-3017-4a5b-9841-09ab911457f4",
   "metadata": {},
   "outputs": [],
   "source": [
    "Q7. What qualifies ASCII text as a form of Unicode text?\n",
    "Ans: Unicode represents most written languages in the world. ASCII has its equivalent in Unicode. \n",
    "The difference between ASCII and Unicode is that ASCII represents lowercase letters (a-z), uppercase letters (A-Z),\n",
    "digits (0–9) and symbols such as punctuation marks while Unicode represents letters of English, Arabic, Greek etc. \n",
    "mathematical symbols, historical scripts, emoji covering a wide range of characters than ASCII.\n",
    "\n",
    "Q8. How much of an effect does the change in string types in Python 3.X have on your code?\n",
    "Ans: Python 3 stores strings as Unicode by default whereas Python 2 requires you to mark a string with a u if you want to store it as Unicode. Unicode strings are more versatile than ASCII strings, which are the Python 3.X default, \n",
    "as they can store letters from foreign languages as well as emoji and the standard Roman letters and numerals."
   ]
  }
 ],
 "metadata": {
  "kernelspec": {
   "display_name": "Python 3 (ipykernel)",
   "language": "python",
   "name": "python3"
  },
  "language_info": {
   "codemirror_mode": {
    "name": "ipython",
    "version": 3
   },
   "file_extension": ".py",
   "mimetype": "text/x-python",
   "name": "python",
   "nbconvert_exporter": "python",
   "pygments_lexer": "ipython3",
   "version": "3.10.6"
  }
 },
 "nbformat": 4,
 "nbformat_minor": 5
}
