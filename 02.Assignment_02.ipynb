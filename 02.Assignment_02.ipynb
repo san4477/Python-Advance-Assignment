{
 "cells": [
  {
   "cell_type": "code",
   "execution_count": null,
   "id": "abd9dfb9-22e9-44c3-b48d-f627341b5b6f",
   "metadata": {},
   "outputs": [],
   "source": [
    "Q1. What is the relationship between classes and modules?\n",
    "Ans: A Python class is like an outline/blueprint/mold for creating a new object. An object is anything that you wish to manipulate or \n",
    "change while working through the code. Every time a class object is instantiated, which is when we declare a variable, a new object is \n",
    "initiated from scratch Whereas in Python, Modules are simply files with the . py extension containing Python code that can be imported inside another Python \n",
    "Program. In simple terms, we can consider a module to be the same as a code library or a file that contains a set of functions/Classes\n",
    "that you want to include in your application."
   ]
  },
  {
   "cell_type": "code",
   "execution_count": null,
   "id": "281dd510-b42a-4e18-b5ce-ddfb3cb834d9",
   "metadata": {},
   "outputs": [],
   "source": [
    "Q2. How do you make instances and classes?\n",
    "Ans: For creating a class instance. we call a class by its name and pass the arguments which its __init__ method accepts.\n",
    "\n",
    "Example: vishwak = employee('Male',20000), Here vishwak is an instance of class employee with attriubutes 'Male' and 20000.\n",
    "\n",
    "Whereas for creating a class, we use the Class keyword. Class keyword is followed by classname and semicolon.\n",
    "\n",
    "Example: Here Employee is a class created with class keyword with arguments gender and salary.\n",
    "\n",
    "class Employee: def __init__(self, gender,salary): self.gender = gender self.salary = salary"
   ]
  },
  {
   "cell_type": "code",
   "execution_count": null,
   "id": "f567374e-9be7-4602-94b6-fbac3913004f",
   "metadata": {},
   "outputs": [],
   "source": [
    "Q3. Where and how should be class attributes created?\n",
    "Ans: Class attributes or Class level Attributes belong to the class itself. these attributes will be shared by all the instances of the \n",
    "class. Hence these attributes are usually created/defined in the top of class definiation outside all methods.\n",
    "\n",
    "Example: In the below code we are defining a class attribute called no_of_wheels which will be shared by all the instances of the class\n",
    "Car\n",
    "\n",
    "class Car: no_of_wheels = 4; # this is a class attribute def __init__(self,color,price,engine): self.color = color # All this are instance\n",
    "attributes self.price = price self.engine = engine"
   ]
  },
  {
   "cell_type": "code",
   "execution_count": null,
   "id": "5ac9d98d-446c-4e17-9632-217d42065eba",
   "metadata": {},
   "outputs": [],
   "source": [
    "Q3. Where and how should be class attributes created?\n",
    "Ans: Class attributes or Class level Attributes belong to the class itself. these attributes will be shared by all the instances of the \n",
    "class. Hence these attributes are usually created/defined in the top of class definiation outside all methods.\n",
    "\n",
    "Example: In the below code we are defining a class attribute called no_of_wheels which will be shared by all the instances of the class \n",
    "Car\n",
    "\n",
    "class Car: no_of_wheels = 4; # this is a class attribute def __init__(self,color,price,engine): self.color = color # All this are instance \n",
    "attributes self.price = price self.engine = engine"
   ]
  },
  {
   "cell_type": "code",
   "execution_count": null,
   "id": "2bf79120-373a-4ef6-9854-cd41c1bd7d21",
   "metadata": {},
   "outputs": [],
   "source": [
    "Q5. What does the term \"self\" in a Python class mean?\n",
    "Ans: self represents the instance of the class (it represents the object itself). By using the “self” keyword we can access the\n",
    "attributes and methods of the class with in the class in python. It binds the attributes with the given arguments.\n"
   ]
  },
  {
   "cell_type": "code",
   "execution_count": 1,
   "id": "450299e1-9897-45f4-8a4e-705e807a2cf0",
   "metadata": {},
   "outputs": [
    {
     "name": "stdout",
     "output_type": "stream",
     "text": [
      "{'color': 'Indigo Blue', 'price': 1400000, 'engine': 'electric'}\n",
      "{'color': 'Pearl White', 'price': 2100000, 'engine': 'petrol'}\n"
     ]
    }
   ],
   "source": [
    "class Car:\n",
    "    def __init__(self,color,price,engine):\n",
    "        self.color = color # All this are instance attributes\n",
    "        self.price = price\n",
    "        self.engine = engine\n",
    "\n",
    "nexon_ev = Car('Indigo Blue', 1400000, 'electric')\n",
    "safari = Car('Pearl White',2100000, 'petrol')\n",
    "\n",
    "print(nexon_ev.__dict__)\n",
    "print(safari.__dict__)"
   ]
  },
  {
   "cell_type": "code",
   "execution_count": null,
   "id": "8fefcf62-eb90-4b38-926c-465b95a446be",
   "metadata": {},
   "outputs": [],
   "source": [
    "Q6. How does a Python class handle operator overloading?\n",
    "Ans: Python Classes handle operator overloading by using special methods called Magic methods. these special methods usually begin and end with __ (double underscore)\n",
    "Example: Magic methods for basic arithmetic operators are:\n",
    "\n",
    "+ -> __add__()\n",
    "- -> __sub__()\n",
    "* -> __mul__()\n",
    "/ -> __div__()"
   ]
  },
  {
   "cell_type": "code",
   "execution_count": 2,
   "id": "6ebb6f63-e583-47c3-8fa0-0d9b58817676",
   "metadata": {},
   "outputs": [
    {
     "name": "stdout",
     "output_type": "stream",
     "text": [
      "The total number of pages in 2 books is 300\n"
     ]
    }
   ],
   "source": [
    "class Book:\n",
    "    def __init__(self,pages):\n",
    "        self.pages = pages\n",
    "    def __add__(self,other):\n",
    "        return self.pages + other.pages\n",
    "b1 = Book(100)\n",
    "b2 = Book(200)\n",
    "print(f'The total number of pages in 2 books is {b1+b2}')"
   ]
  },
  {
   "cell_type": "code",
   "execution_count": null,
   "id": "ff5de370-22e3-4dbd-8ed7-58d5e7661864",
   "metadata": {},
   "outputs": [],
   "source": [
    "7. When do you consider allowing operator overloading of your classes?\n",
    "Ans: When we want to have different meaning for the same operator accroding to the context we use operator overloading."
   ]
  },
  {
   "cell_type": "code",
   "execution_count": null,
   "id": "1164cdb8-79c8-44fe-902d-20df80a56885",
   "metadata": {},
   "outputs": [],
   "source": [
    "Q8. What is the most popular form of operator overloading?\n",
    "Ans: The most popular form of operator overloading in python is by special methods called Magic methods. Which usually beign and \n",
    "end with double underscore ____.\n"
   ]
  },
  {
   "cell_type": "code",
   "execution_count": 3,
   "id": "c94be41d-9a58-4ffb-b494-06c8b5bb21dc",
   "metadata": {},
   "outputs": [
    {
     "name": "stdout",
     "output_type": "stream",
     "text": [
      "Sum -> 3\n",
      "String Concatenation -> Mano Vishnu\n"
     ]
    }
   ],
   "source": [
    "class A:\n",
    "    def __init__(self,a):\n",
    "        self.a = a\n",
    "    def __add__(self,o):\n",
    "        return self.a+o.a\n",
    "obj1 = A(1)\n",
    "obj2 = A(2)\n",
    "obj3 = A('Mano')\n",
    "obj4 = A(' Vishnu')\n",
    "print(f'Sum -> {obj1+obj2}')\n",
    "print(f'String Concatenation -> {obj3+obj4}')"
   ]
  },
  {
   "cell_type": "code",
   "execution_count": null,
   "id": "39669fdf-6676-4655-aff8-986c8c27ebeb",
   "metadata": {},
   "outputs": [],
   "source": [
    "Q9. What are the two most important concepts to grasp in order to comprehend Python OOP code?\n",
    "Ans: Classes and objects are the two concepts to comprehend python OOP code as more formally objects are entities that represent instances of general abstract concept called class\n",
    "\n",
    "Along with classes and objects the important concepts to grasp are:\n",
    "\n",
    "Inheritence\n",
    "Abstraction\n",
    "Polymorphism\n",
    "Encapsulation"
   ]
  }
 ],
 "metadata": {
  "kernelspec": {
   "display_name": "Python 3 (ipykernel)",
   "language": "python",
   "name": "python3"
  },
  "language_info": {
   "codemirror_mode": {
    "name": "ipython",
    "version": 3
   },
   "file_extension": ".py",
   "mimetype": "text/x-python",
   "name": "python",
   "nbconvert_exporter": "python",
   "pygments_lexer": "ipython3",
   "version": "3.10.6"
  }
 },
 "nbformat": 4,
 "nbformat_minor": 5
}
