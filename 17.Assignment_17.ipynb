{
 "cells": [
  {
   "cell_type": "code",
   "execution_count": null,
   "id": "99f14a71-9536-491e-9d99-9ecf4aa85234",
   "metadata": {},
   "outputs": [],
   "source": [
    "Q1. Explain the difference between greedy and non-greedy syntax with visual terms in as few words as possible. \n",
    "What is the bare minimum effort required to transform a greedy pattern into a non-greedy one? What characters or \n",
    "characters can you introduce or change?\n",
    "Ans: The Main difference between Greedy and Non Greedy Match Syntax is The Greedy Match will try to match as many\n",
    "repetitions of the quantified pattern as possible Whereas The Non Greedy Match will try to match as few repetitions \n",
    "of the quantified pattern as possible"
   ]
  },
  {
   "cell_type": "code",
   "execution_count": 1,
   "id": "24011cff-11c0-4a6a-9ca4-3fc677b0a458",
   "metadata": {},
   "outputs": [
    {
     "name": "stdout",
     "output_type": "stream",
     "text": [
      "['vvvvvv', '']\n",
      "['', 'v', '', 'v', '', 'v', '', 'v', '', 'v', '', 'v', '']\n"
     ]
    }
   ],
   "source": [
    "import re\n",
    "print(re.findall(\"v*\", \"vvvvvv\")) # Greedy Match Synatx\n",
    "print(re.findall(\"v*?\", \"vvvvvv\")) # Non Greddy Syntax"
   ]
  },
  {
   "cell_type": "code",
   "execution_count": null,
   "id": "35c24976-48b3-456e-b997-2c4ffc1e5696",
   "metadata": {},
   "outputs": [],
   "source": [
    "Q2. When exactly does greedy versus non-greedy make a difference? What if you're looking for a non-greedy match \n",
    "but the only one available is greedy?\n",
    "Ans: The Greedy Match will try to match as many repetitions of the quantified pattern as possible.\n",
    "The Non Greedy Match will try to match as few repetitions of the quantified pattern as possible.\n",
    "If only Non Greedy Match is available, we can use other filtering or pattern matching methods of regex and further identify the required\n",
    "pattern."
   ]
  },
  {
   "cell_type": "code",
   "execution_count": null,
   "id": "fa087645-30f3-4566-85d1-bb14686441cc",
   "metadata": {},
   "outputs": [],
   "source": [
    "Q3. In a simple match of a string, which looks only for one match and does not do any replacement,\n",
    "is the use of a nontagged group likely to make any practical difference?\n",
    "Ans: In this Case The Non Tagged Group will not make any diffrence in this case."
   ]
  },
  {
   "cell_type": "code",
   "execution_count": 2,
   "id": "44ffb1e6-5c5c-4504-aa90-fbb3cc095e18",
   "metadata": {},
   "outputs": [
    {
     "name": "stdout",
     "output_type": "stream",
     "text": [
      "Phone number found -> 234\n",
      "Phone number found -> 234\n"
     ]
    }
   ],
   "source": [
    "import re\n",
    "phoneNumRegex = re.compile(r'\\d\\d\\d')\n",
    "num = phoneNumRegex.search('My number is 234-567-8901.')\n",
    "print(f'Phone number found -> {num.group()}') # Non Tagged group\n",
    "print(f'Phone number found -> {num.group(0)}') # Tagged Group"
   ]
  },
  {
   "cell_type": "code",
   "execution_count": null,
   "id": "53a3158e-22b8-42bd-bf99-5e5c9bc41ed8",
   "metadata": {},
   "outputs": [],
   "source": [
    "4. Describe a scenario in which using a nontagged category would have a significant impact on the program's outcomes ?\n",
    "Ans: Here in the below Code Snippet . decimal is not tagged or captured. It will useful in scenarios where the \n",
    "separator of value in a string is of no use and we need to capture only the values.\n",
    "\n"
   ]
  },
  {
   "cell_type": "code",
   "execution_count": 3,
   "id": "646ed90d-bca0-4893-b986-a2e2d58190e1",
   "metadata": {},
   "outputs": [
    {
     "data": {
      "text/plain": [
       "('135', '456')"
      ]
     },
     "execution_count": 3,
     "metadata": {},
     "output_type": "execute_result"
    }
   ],
   "source": [
    "import re\n",
    "text='135.456'\n",
    "pattern=r'(\\d+)(?:.)(\\d+)'\n",
    "regobj=re.compile(pattern)\n",
    "matobj=regobj.search(text)\n",
    "matobj.groups()"
   ]
  },
  {
   "cell_type": "code",
   "execution_count": null,
   "id": "51d7a6bc-4328-4348-9e58-d61e69a98e6b",
   "metadata": {},
   "outputs": [],
   "source": [
    "Q5. Unlike a normal regex pattern, a look-ahead condition does not consume the characters it examines. Describe a situation \n",
    "in which this could make a difference in the results of your programme ?\n",
    "Ans: While counting the number of multiple lines or mutiple sentence in a string the positive look ahead makes a difference,\n",
    "without which we wont get the correct count of lines or sentences in a string.\n",
    "\n",
    "Q6. In standard expressions, what is the difference between positive look-ahead and negative look-ahead ?\n",
    "Ans: Positive Lookahead allows to add a condition for what follows. Negative Lookahead is similar, but it looks behind.\n",
    "That is, it allows to match a pattern only if there’s something before it.\n",
    "\n",
    "Q7. What is the benefit of referring to groups by name rather than by number in a standard expression?\n",
    "Ans: Referring to groups by name rather than by number in a standard expression helps to keep the code clear and easy to understand."
   ]
  },
  {
   "cell_type": "code",
   "execution_count": null,
   "id": "5d01aa0d-ee28-4cad-b7f2-8142514a13a8",
   "metadata": {},
   "outputs": [],
   "source": [
    "Q8. Can you identify repeated items within a target string using named groups, as in \"The cow jumped over the moon\"?"
   ]
  },
  {
   "cell_type": "code",
   "execution_count": null,
   "id": "226eb06a-08e3-44e3-9039-fd0555a1d47c",
   "metadata": {},
   "outputs": [],
   "source": [
    "import re\n",
    "text = \"The cow jumped over the moon\"\n",
    "regobj=re.compile(r'(?PThe)',re.I)\n",
    "regobj.findall(text)"
   ]
  },
  {
   "cell_type": "code",
   "execution_count": null,
   "id": "24718d2c-b43f-451e-b517-858277e7fcf9",
   "metadata": {},
   "outputs": [],
   "source": [
    "Q9. When parsing a string, what is at least one thing that the Scanner interface does for you that the re.findall feature does not ?\n",
    "Ans: re.findall() module is used to search for all occurrences that match a given pattern. \n",
    "In contrast, re.search() will only return the first occurrence that matches the specified pattern. re.findall() .\n",
    "will iterate over all the lines of the file and will return all non-overlapping matches of pattern in a single step.\n",
    "\n",
    "Q10. Does a scanner object have to be named scanner?\n",
    "Ans: Yes, It may have any name."
   ]
  }
 ],
 "metadata": {
  "kernelspec": {
   "display_name": "Python 3 (ipykernel)",
   "language": "python",
   "name": "python3"
  },
  "language_info": {
   "codemirror_mode": {
    "name": "ipython",
    "version": 3
   },
   "file_extension": ".py",
   "mimetype": "text/x-python",
   "name": "python",
   "nbconvert_exporter": "python",
   "pygments_lexer": "ipython3",
   "version": "3.10.6"
  }
 },
 "nbformat": 4,
 "nbformat_minor": 5
}
